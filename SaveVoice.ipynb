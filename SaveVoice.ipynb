{
 "cells": [
  {
   "cell_type": "code",
   "execution_count": 1,
   "metadata": {},
   "outputs": [],
   "source": [
    "import telebot\n",
    "import sqlite3\n",
    "from sqlite3 import Error\n",
    "import os.path\n",
    "import requests\n",
    "import sys"
   ]
  },
  {
   "cell_type": "code",
   "execution_count": 2,
   "metadata": {},
   "outputs": [],
   "source": [
    "API_TOKEN = \"YOURTOKEN\" # HERE IS YOUR TOKEN\n",
    "bot = telebot.TeleBot(API_TOKEN) # connect bot to your token"
   ]
  },
  {
   "cell_type": "code",
   "execution_count": 3,
   "metadata": {},
   "outputs": [],
   "source": [
    "def create_or_open_db(db_file): # def function\n",
    "    db_is_new = not os.path.exists(db_file) # check does db exists\n",
    "    conn = sqlite3.connect(db_file)         # connect or create db\n",
    "    if db_is_new:                       \n",
    "        print('Creating schema')\n",
    "        sql = '''create table if not exists AUDIO(\n",
    "        UID INTEGER,\n",
    "        AUDIOS TEXT);''' # make prepare query \n",
    "        conn.execute(sql) # shortcut for conn.cursor().execute(sql)\n",
    "    else:\n",
    "        print('Schema exists')\n",
    "    return conn"
   ]
  },
  {
   "cell_type": "code",
   "execution_count": 4,
   "metadata": {},
   "outputs": [
    {
     "name": "stdout",
     "output_type": "stream",
     "text": [
      "Creating schema\n"
     ]
    }
   ],
   "source": [
    "conn = create_or_open_db('audio.db') # open or create db\n",
    "conn = sqlite3.connect('audio.db') # connect to db\n",
    "c = conn.cursor()"
   ]
  },
  {
   "cell_type": "code",
   "execution_count": null,
   "metadata": {},
   "outputs": [],
   "source": [
    "@bot.message_handler(content_types=['voice']) # handle all voice message\n",
    "def handle_docs_audio(message):\n",
    "    if message.chat.type == 'group': # check type message, ignore all message that isn't groupmessage\n",
    "            conn = create_or_open_db('audio.db') # open or create db\n",
    "            conn = sqlite3.connect('audio.db') # connect to db\n",
    "            c = conn.cursor()\n",
    "            raw = message.voice.file_id # get voice file id\n",
    "            uid = message.from_user.id # get id of user \n",
    "            path = raw+\".ogg\" # for voice file\n",
    "            file_info = bot.get_file(raw) # get file from id\n",
    "            downloaded_file = bot.download_file(file_info.file_path) # download file\n",
    "            with open(path,'wb') as new_file: # save file\n",
    "                new_file.write(downloaded_file)  \n",
    "            realpath = os.path.realpath(path) # get current path for saved voice file\n",
    "            c.execute(\"INSERT INTO AUDIO (UID, AUDIOS) VALUES (?,?)\", (uid, realpath)) # insert user id and path to voice file into db \n",
    "            conn.commit()\n",
    "bot.polling() # make bot running"
   ]
  }
 ],
 "metadata": {
  "kernelspec": {
   "display_name": "Python 3",
   "language": "python",
   "name": "python3"
  },
  "language_info": {
   "codemirror_mode": {
    "name": "ipython",
    "version": 3
   },
   "file_extension": ".py",
   "mimetype": "text/x-python",
   "name": "python",
   "nbconvert_exporter": "python",
   "pygments_lexer": "ipython3",
   "version": "3.6.5"
  }
 },
 "nbformat": 4,
 "nbformat_minor": 2
}
